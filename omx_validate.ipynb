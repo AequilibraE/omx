{
  "nbformat": 4,
  "nbformat_minor": 0,
  "metadata": {
    "colab": {
      "name": "omx_validate",
      "provenance": [],
      "toc_visible": true
    },
    "kernelspec": {
      "name": "python3",
      "display_name": "Python 3"
    }
  },
  "cells": [
    {
      "cell_type": "markdown",
      "metadata": {
        "id": "wW4AtO3MNYH3",
        "colab_type": "text"
      },
      "source": [
        "# OMX Validator\n",
        "\n",
        "The OMX validator is a [Jupyter notebook](https://jupyter.org/) hosted in Google Colaboratory. It is an interactive Python environment that validates OMX matrices using the [openmatrix](https://github.com/osPlanning/omx-python) library.  The validator has been tested with the [example](https://github.com/osPlanning/omx/blob/master/example.omx?raw=true) omx file.  OMX files can also be inspected with the [OMX Viewer](https://github.com/osPlanning/omx/wiki/OMX-Viewer).\n",
        "\n",
        "This notebook is setup to run in the cloud, but it can also be run locally.  To run it locally, download the ipynb file, run it with Jupyter, and skip the upload file step by instead setting **filename** to a local file.  \n",
        "\n"
      ]
    },
    {
      "cell_type": "markdown",
      "metadata": {
        "id": "Ojb_3G0iJdxO",
        "colab_type": "text"
      },
      "source": [
        "# Upload File\n",
        "\n",
        "This step creates a file selector UI control to select a local file for upload.  Google Colab uploads the file and stores it with the Colab notebook Files.  Run the code cell by clicking on the [ ] play button.  The **filename** is then referenced in the next section for reading the OMX file.  While testing, you may need to reset the UI control, which you can do via Runtime + Restart runtime.  Also, you can review the Files uploaded via View + Table of Contents + Files. "
      ]
    },
    {
      "cell_type": "code",
      "metadata": {
        "id": "Jx_VaZZdGYon",
        "colab_type": "code",
        "outputId": "d4a9f6bd-158e-41ba-c67e-e04321a5b4d0",
        "colab": {
          "resources": {
            "http://localhost:8080/nbextensions/google.colab/files.js": {
              "data": "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",
              "ok": true,
              "headers": [
                [
                  "content-type",
                  "application/javascript"
                ]
              ],
              "status": 200,
              "status_text": ""
            }
          },
          "base_uri": "https://localhost:8080/",
          "height": 91
        }
      },
      "source": [
        "from google.colab import files\n",
        "import io\n",
        "uploaded = files.upload()\n",
        "filename = list(uploaded.keys())[0]\n",
        "print(\"File uploaded:\", filename)"
      ],
      "execution_count": 1,
      "outputs": [
        {
          "output_type": "display_data",
          "data": {
            "text/html": [
              "\n",
              "     <input type=\"file\" id=\"files-be9e5432-6605-4299-913e-e8cb54c76501\" name=\"files[]\" multiple disabled />\n",
              "     <output id=\"result-be9e5432-6605-4299-913e-e8cb54c76501\">\n",
              "      Upload widget is only available when the cell has been executed in the\n",
              "      current browser session. Please rerun this cell to enable.\n",
              "      </output>\n",
              "      <script src=\"/nbextensions/google.colab/files.js\"></script> "
            ],
            "text/plain": [
              "<IPython.core.display.HTML object>"
            ]
          },
          "metadata": {
            "tags": []
          }
        },
        {
          "output_type": "stream",
          "text": [
            "Saving example.omx to example.omx\n",
            "File uploaded: example.omx\n"
          ],
          "name": "stdout"
        }
      ]
    },
    {
      "cell_type": "markdown",
      "metadata": {
        "id": "IFGg33IoELVR",
        "colab_type": "text"
      },
      "source": [
        "# Validate Functions\n",
        "\n",
        "This step installs the openmatrix package from [pypi.org](https://pypi.org/project/OpenMatrix/) and defines the OMX validation functions."
      ]
    },
    {
      "cell_type": "code",
      "metadata": {
        "id": "7rvtFHB8EVPz",
        "colab_type": "code",
        "outputId": "834b45f2-649e-4d98-90a2-ea1537638be2",
        "colab": {
          "base_uri": "https://localhost:8080/",
          "height": 102
        }
      },
      "source": [
        "!pip install openmatrix\n",
        "\n",
        "import openmatrix as omx\n",
        "\n",
        "def pass_or_fail(ok): \n",
        "    return(\"Pass\" if ok else \"Fail\")\n",
        "         \n",
        "def open_file(filename):\n",
        "    mat_file = omx.open_file(filename, \"r\")\n",
        "    print(\"File contents:\", filename)\n",
        "    print(mat_file)\n",
        "    return(mat_file)\n",
        "\n",
        "def check1(mat_file, required=True, checknum=1):\n",
        "    print('\\nCheck 1: Has OMX_VERSION attribute set to 0.2')\n",
        "    ok = mat_file.root._v_attrs['OMX_VERSION'] == b'0.2'\n",
        "    print(\"  File version is 0.2:\", pass_or_fail(ok))\n",
        "    return(ok, required, checknum)\n",
        "\n",
        "def check2(mat_file, required=True, checknum=2):\n",
        "    print('\\nCheck 2: Has SHAPE array attribute set to two item integer array')\n",
        "    ok = len(mat_file.root._v_attrs['SHAPE']) == 2\n",
        "    print(\"  Length is 2:\", pass_or_fail(ok))\n",
        "    ok_2 = int(mat_file.root._v_attrs['SHAPE'][0]) == mat_file.root._v_attrs['SHAPE'][0]\n",
        "    print(\"  First item is integer:\", pass_or_fail(ok_2))\n",
        "    ok_3 = int(mat_file.root._v_attrs['SHAPE'][1]) == mat_file.root._v_attrs['SHAPE'][1]\n",
        "    print(\"  Second item is integer:\", pass_or_fail(ok_3))\n",
        "    print('  Shape:', mat_file.shape())\n",
        "    return(ok * ok_2 * ok_3, required, checknum)\n",
        "\n",
        "def check3(mat_file, required=True, checknum=3):\n",
        "    print('\\nCheck 3: Has data group for matrices')\n",
        "    ok = 'data' in map(lambda x: x._v_name, mat_file.list_nodes(\"/\"))\n",
        "    print(\"  Group:\", pass_or_fail(ok))\n",
        "    print('  Number of Matrices:', len(mat_file))\n",
        "    print('  Matrix names:', mat_file.list_matrices())\n",
        "    return(ok, required, checknum)\n",
        "\n",
        "def check4(mat_file, required=True, checknum=4):\n",
        "    print(\"\\nCheck 4: Matrix shape matches file shape\")\n",
        "    ok = True\n",
        "    for matrix in mat_file.list_matrices():\n",
        "        ok_2 = (mat_file[matrix].shape == mat_file.root._v_attrs['SHAPE']).all()\n",
        "        print(\"  Matrix shape: \", matrix, \":\", mat_file[matrix].shape, \":\", pass_or_fail(ok_2))\n",
        "        ok = ok * ok_2\n",
        "    return(ok, required, checknum)\n",
        "\n",
        "def check5(mat_file, required=True, checknum=5):\n",
        "    print('\\nCheck 5: Uses common data types (float or int) for matrices')\n",
        "    ok = True\n",
        "    for matrix in mat_file.list_matrices():\n",
        "        ok_2 = (mat_file[matrix].dtype == float) or (mat_file[matrix].dtype == int)\n",
        "        print(\"  Matrix: \", matrix, \":\", mat_file[matrix].dtype, \":\", pass_or_fail(ok_2))\n",
        "        ok = ok * ok_2\n",
        "    return(ok, required, checknum)\n",
        "\n",
        "def check6(mat_file, required=True, checknum=6):\n",
        "    print('\\nCheck 6: Matrices chunked for faster I/O')\n",
        "    ok = True\n",
        "    for matrix in mat_file.list_matrices():\n",
        "        ok_2 = True if mat_file[matrix].chunkshape is not None else False\n",
        "        print(\"  Matrix chunkshape: \", matrix, \":\", mat_file[matrix].chunkshape, \":\", pass_or_fail(ok_2))\n",
        "        ok = ok * ok_2\n",
        "    return(ok, required, checknum)\n",
        "\n",
        "def check7(mat_file, required=False, checknum=7):\n",
        "    print('\\nCheck 7: Uses zlib compression if compression used')\n",
        "    ok = True\n",
        "    for matrix in mat_file.list_matrices():\n",
        "        ok_2 = True if mat_file[matrix].filters.complib is not None else False\n",
        "        if ok_2:\n",
        "            ok_3 = mat_file[matrix].filters.complib == 'zlib'\n",
        "            ok_2 = ok_2 * ok_3\n",
        "            print(\"  Matrix compression library and level: \", matrix, \":\", mat_file[matrix].filters.complib, \":\", mat_file[matrix].filters.complevel, \":\", pass_or_fail(ok_2))\n",
        "        ok = ok * ok_2\n",
        "    return(ok, required, checknum)\n",
        "\n",
        "def check8(mat_file, required=False, checknum=8):\n",
        "    print(\"\\nCheck 8: Has NA attribute if desired (but not required)\")\n",
        "    ok = True\n",
        "    for matrix in mat_file.list_matrices():\n",
        "       ok_2 = mat_file[matrix].attrs.__contains__(\"NA\")\n",
        "       print(\"  Matrix NA attribute: \", matrix, \":\", pass_or_fail(ok_2))\n",
        "       ok = ok * ok_2\n",
        "    return(ok, required, checknum)\n",
        "\n",
        "def check9(mat_file, required=False, checknum=9):\n",
        "    print('\\nCheck 9: Has lookup group for labels/indexes if desired (but not required)')\n",
        "    ok = 'lookup' in map(lambda x: x._v_name, mat_file.list_nodes(\"/\"))\n",
        "    print(\"  Group:\", pass_or_fail(ok))\n",
        "    if ok:\n",
        "        print('  Number of Lookups:', len(mat_file.list_mappings()))\n",
        "        print('  Lookups names:', mat_file.list_mappings())\n",
        "    return(ok, required, checknum)\n",
        "\n",
        "def check10(mat_file, required=False, checknum=10):\n",
        "    print(\"\\nCheck 10: Lookup shape matches file shape\")\n",
        "    ok = False\n",
        "    if 'lookup' in map(lambda x: x._v_name, mat_file.list_nodes(\"/\")):\n",
        "        ok = True\n",
        "        for lookup in mat_file.list_mappings():\n",
        "            ok_2 = len(mat_file.mapping(lookup)) == mat_file.root._v_attrs['SHAPE'][0] or len(mat_file.mapping(lookup)) == mat_file.root._v_attrs['SHAPE'][1]\n",
        "            print(\"  Lookup: \", lookup, \":\", len(mat_file.mapping(lookup)), \":\", pass_or_fail(ok_2))\n",
        "            ok = ok * ok_2\n",
        "    return(ok, required, checknum)\n",
        "\n",
        "def check11(mat_file, required=False, checknum=11):\n",
        "    print('\\nCheck 11: Uses common data types (int or str) for lookups')\n",
        "    is_int = lambda x: x == int\n",
        "    ok = False\n",
        "    if 'lookup' in map(lambda x: x._v_name, mat_file.list_nodes(\"/\")):\n",
        "        ok = True\n",
        "        for lookup in mat_file.list_mappings():\n",
        "            ok_2 = all(map(lambda x: x == int(x), mat_file.mapping(lookup).keys())) or all(map(lambda x: x == str(x), mat_file.mapping(lookup).keys()))\n",
        "            print(\"  Lookup: \", lookup, \":\", pass_or_fail(ok_2))\n",
        "            ok = ok * ok_2\n",
        "    return(ok, required, checknum)\n",
        "\n",
        "def check12(mat_file, required=False, checknum=12):\n",
        "    print(\"\\nCheck 12: Has Lookup DIM attribute of 0 (row) or 1 (column) if desired (but not required)\")\n",
        "    print(\"  Not supported at this time by the Python openmatrix package\")\n",
        "    ok = False\n",
        "    if 'lookup' in map(lambda x: x._v_name, mat_file.list_nodes(\"/\")):\n",
        "        ok = False\n",
        "    return(ok, required, checknum)\n",
        "\n",
        "def run_checks(filename):\n",
        "    mat_file = open_file(filename)\n",
        "    results = []\n",
        "    results.append(check1(mat_file))\n",
        "    results.append(check2(mat_file))\n",
        "    results.append(check3(mat_file))\n",
        "    results.append(check4(mat_file))\n",
        "    results.append(check5(mat_file))\n",
        "    results.append(check6(mat_file))\n",
        "    results.append(check7(mat_file))\n",
        "    results.append(check8(mat_file))\n",
        "    results.append(check9(mat_file))\n",
        "    results.append(check10(mat_file))\n",
        "    results.append(check11(mat_file))\n",
        "    results.append(check12(mat_file))\n",
        "    print(\"\\nOverall result \")\n",
        "    overall_ok = True\n",
        "    for result in results:\n",
        "        print(\"  Check\", result[2], \":\", \"Required\" if result[1] else \"Not required\", \":\", pass_or_fail(result[0]))\n",
        "        if result[1]:\n",
        "          overall_ok = overall_ok * result[0]\n",
        "    print(\"  Overall : \", pass_or_fail(overall_ok))"
      ],
      "execution_count": 35,
      "outputs": [
        {
          "output_type": "stream",
          "text": [
            "Requirement already satisfied: openmatrix in /usr/local/lib/python3.6/dist-packages (0.3.4.1)\n",
            "Requirement already satisfied: numpy>=1.5.0 in /usr/local/lib/python3.6/dist-packages (from openmatrix) (1.17.4)\n",
            "Requirement already satisfied: tables>=3.1.0 in /usr/local/lib/python3.6/dist-packages (from openmatrix) (3.4.4)\n",
            "Requirement already satisfied: numexpr>=2.5.2 in /usr/local/lib/python3.6/dist-packages (from tables>=3.1.0->openmatrix) (2.7.0)\n",
            "Requirement already satisfied: six>=1.9.0 in /usr/local/lib/python3.6/dist-packages (from tables>=3.1.0->openmatrix) (1.12.0)\n"
          ],
          "name": "stdout"
        }
      ]
    },
    {
      "cell_type": "markdown",
      "metadata": {
        "id": "2xBorP6FJi_j",
        "colab_type": "text"
      },
      "source": [
        "# Validate\n",
        "\n",
        "This section validates the OMX file against the [Specification](https://github.com/osPlanning/omx/wiki/Specification).  The following checks are run and an overall Pass or Fail is returned at the end.\n",
        "1.   Has OMX_VERSION attribute set to 0.2\n",
        "2.   Has SHAPE array attribute set to two item integer array\n",
        "1.   Has data group for matrices\n",
        "1.   Matrix shape matches file shape\n",
        "1.   Uses common data types (float or int) for matrices\n",
        "1.   Matrices chunked for faster I/O\n",
        "2.   Uses zlib compression and level 1 if compression used\n",
        "2.   Has NA attribute if desired (but not required)\n",
        "2.   Has lookup group for labels/indexes if desired (but not required)\n",
        "2.   Lookup length matches shape\n",
        "1.   Uses common data types (int or str) for lookups\n",
        "2.   Has Lookup DIM attribute of 0 (row) or 1 (column) if desired (but not required)"
      ]
    },
    {
      "cell_type": "code",
      "metadata": {
        "id": "a8VncE6qKKLC",
        "colab_type": "code",
        "outputId": "13f446e4-399d-4932-9d34-d66020189cfb",
        "colab": {
          "base_uri": "https://localhost:8080/",
          "height": 1000
        }
      },
      "source": [
        "run_checks(filename)"
      ],
      "execution_count": 36,
      "outputs": [
        {
          "output_type": "stream",
          "text": [
            "File contents: example.omx\n",
            "example.omx (File) ''\n",
            "Last modif.: 'Sun Dec 15 16:14:02 2019'\n",
            "Object Tree: \n",
            "/ (RootGroup) ''\n",
            "/data (Group) ''\n",
            "/data/FARE (CArray(485, 485), shuffle, zlib(1)) 'Fare Transit'\n",
            "/data/IVT (CArray(485, 485), shuffle, zlib(1)) 'In-vehicle time Transit'\n",
            "/data/IVTBUS (CArray(485, 485), shuffle, zlib(1)) 'In-vehicle time-TSys(Bus) Transit'\n",
            "/data/IVTRAIL (CArray(485, 485), shuffle, zlib(1)) 'In-vehicle time-TSys(Rail) Transit'\n",
            "/data/IVTTRAM (CArray(485, 485), shuffle, zlib(1)) 'In-vehicle time-TSys(Tram) Transit'\n",
            "/data/OWT (CArray(485, 485), shuffle, zlib(1)) 'Origin wait time Transit'\n",
            "/data/TRANSFERS (CArray(485, 485), shuffle, zlib(1)) 'Number of transfers Transit'\n",
            "/data/TWT (CArray(485, 485), shuffle, zlib(1)) 'Transfer wait time Transit'\n",
            "/lookup (Group) ''\n",
            "/lookup/NO (Array(485,)) ''\n",
            "\n",
            "\n",
            "Check 1: Has OMX_VERSION attribute set to 0.2\n",
            "  File version is 0.2: Pass\n",
            "\n",
            "Check 2: Has SHAPE array attribute set to two item integer array\n",
            "  Length is 2: Pass\n",
            "  First item is integer: Pass\n",
            "  Second item is integer: Pass\n",
            "  Shape: (485, 485)\n",
            "\n",
            "Check 3: Has data group for matrices\n",
            "  Group: Pass\n",
            "  Number of Matrices: 8\n",
            "  Matrix names: ['FARE', 'IVT', 'IVTBUS', 'IVTRAIL', 'IVTTRAM', 'OWT', 'TRANSFERS', 'TWT']\n",
            "\n",
            "Check 4: Matrix shape matches file shape\n",
            "  Matrix shape:  FARE : (485, 485) : Pass\n",
            "  Matrix shape:  IVT : (485, 485) : Pass\n",
            "  Matrix shape:  IVTBUS : (485, 485) : Pass\n",
            "  Matrix shape:  IVTRAIL : (485, 485) : Pass\n",
            "  Matrix shape:  IVTTRAM : (485, 485) : Pass\n",
            "  Matrix shape:  OWT : (485, 485) : Pass\n",
            "  Matrix shape:  TRANSFERS : (485, 485) : Pass\n",
            "  Matrix shape:  TWT : (485, 485) : Pass\n",
            "\n",
            "Check 5: Uses common data types (float or int) for matrices\n",
            "  Matrix:  FARE : float64 : Pass\n",
            "  Matrix:  IVT : float64 : Pass\n",
            "  Matrix:  IVTBUS : float64 : Pass\n",
            "  Matrix:  IVTRAIL : float64 : Pass\n",
            "  Matrix:  IVTTRAM : float64 : Pass\n",
            "  Matrix:  OWT : float64 : Pass\n",
            "  Matrix:  TRANSFERS : float64 : Pass\n",
            "  Matrix:  TWT : float64 : Pass\n",
            "\n",
            "Check 6: Matrices chunked for faster I/O\n",
            "  Matrix chunkshape:  FARE : (16, 485) : Pass\n",
            "  Matrix chunkshape:  IVT : (16, 485) : Pass\n",
            "  Matrix chunkshape:  IVTBUS : (16, 485) : Pass\n",
            "  Matrix chunkshape:  IVTRAIL : (16, 485) : Pass\n",
            "  Matrix chunkshape:  IVTTRAM : (16, 485) : Pass\n",
            "  Matrix chunkshape:  OWT : (16, 485) : Pass\n",
            "  Matrix chunkshape:  TRANSFERS : (16, 485) : Pass\n",
            "  Matrix chunkshape:  TWT : (16, 485) : Pass\n",
            "\n",
            "Check 7: Uses zlib compression if compression used\n",
            "  Matrix compression library and level:  FARE : zlib : 1 : Pass\n",
            "  Matrix compression library and level:  IVT : zlib : 1 : Pass\n",
            "  Matrix compression library and level:  IVTBUS : zlib : 1 : Pass\n",
            "  Matrix compression library and level:  IVTRAIL : zlib : 1 : Pass\n",
            "  Matrix compression library and level:  IVTTRAM : zlib : 1 : Pass\n",
            "  Matrix compression library and level:  OWT : zlib : 1 : Pass\n",
            "  Matrix compression library and level:  TRANSFERS : zlib : 1 : Pass\n",
            "  Matrix compression library and level:  TWT : zlib : 1 : Pass\n",
            "\n",
            "Check 8: Has NA attribute if desired (but not required)\n",
            "  Matrix NA attribute:  FARE : Fail\n",
            "  Matrix NA attribute:  IVT : Fail\n",
            "  Matrix NA attribute:  IVTBUS : Fail\n",
            "  Matrix NA attribute:  IVTRAIL : Fail\n",
            "  Matrix NA attribute:  IVTTRAM : Fail\n",
            "  Matrix NA attribute:  OWT : Fail\n",
            "  Matrix NA attribute:  TRANSFERS : Fail\n",
            "  Matrix NA attribute:  TWT : Fail\n",
            "\n",
            "Check 9: Has lookup group for labels/indexes if desired (but not required)\n",
            "  Group: Pass\n",
            "  Number of Lookups: 1\n",
            "  Lookups names: ['NO']\n",
            "\n",
            "Check 10: Lookup shape matches file shape\n",
            "  Lookup:  NO : 485 : Pass\n",
            "\n",
            "Check 11: Uses common data types (int or str) for lookups\n",
            "  Lookup:  NO : Pass\n",
            "\n",
            "Check 12: Has Lookup DIM attribute of 0 (row) or 1 (column) if desired (but not required)\n",
            "  Not supported at this time by the Python openmatrix package\n",
            "\n",
            "Overall result \n",
            "  Check 1 : Required : Pass\n",
            "  Check 2 : Required : Pass\n",
            "  Check 3 : Required : Pass\n",
            "  Check 4 : Required : Pass\n",
            "  Check 5 : Required : Pass\n",
            "  Check 6 : Required : Pass\n",
            "  Check 7 : Not required : Pass\n",
            "  Check 8 : Not required : Fail\n",
            "  Check 9 : Not required : Pass\n",
            "  Check 10 : Not required : Pass\n",
            "  Check 11 : Not required : Pass\n",
            "  Check 12 : Not required : Fail\n",
            "  Overall :  Pass\n"
          ],
          "name": "stdout"
        }
      ]
    }
  ]
}